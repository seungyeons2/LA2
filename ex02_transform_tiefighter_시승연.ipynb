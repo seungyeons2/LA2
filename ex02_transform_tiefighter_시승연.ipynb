{
  "nbformat": 4,
  "nbformat_minor": 0,
  "metadata": {
    "colab": {
      "provenance": [],
      "include_colab_link": true
    },
    "kernelspec": {
      "name": "python3",
      "display_name": "Python 3"
    },
    "language_info": {
      "name": "python"
    }
  },
  "cells": [
    {
      "cell_type": "markdown",
      "metadata": {
        "id": "view-in-github",
        "colab_type": "text"
      },
      "source": [
        "<a href=\"https://colab.research.google.com/github/seungyeons2/LA2/blob/main/ex02_transform_tiefighter_%EC%8B%9C%EC%8A%B9%EC%97%B0.ipynb\" target=\"_parent\"><img src=\"https://colab.research.google.com/assets/colab-badge.svg\" alt=\"Open In Colab\"/></a>"
      ]
    },
    {
      "cell_type": "markdown",
      "source": [
        "### 라이브러리 선언"
      ],
      "metadata": {
        "id": "VcKvO8KcJ9AJ"
      }
    },
    {
      "cell_type": "code",
      "source": [
        "import numpy as np\n",
        "import matplotlib.pyplot as plt\n",
        "from matplotlib.patches import Polygon\n",
        "\n",
        "INF = 1100\n",
        "LEN = 100"
      ],
      "metadata": {
        "id": "uwkBDldBERem"
      },
      "execution_count": 1,
      "outputs": []
    },
    {
      "cell_type": "markdown",
      "source": [
        "### 축 그리기 및 사각형 그리기"
      ],
      "metadata": {
        "id": "eSiS-XHya1FY"
      }
    },
    {
      "cell_type": "code",
      "source": [
        "def draw_axis(ax):\n",
        "  ax.axhline(0, color='black', alpha=0.3)  # x-axis line\n",
        "  ax.axvline(0, color='black', alpha=0.3)  # y-axis line\n",
        "  ax.set_xlim(-INF, INF)\n",
        "  ax.set_ylim(-INF, INF)\n",
        "  ax.set_aspect('equal')  # 정사각형 모양으로 backboard 그리기"
      ],
      "metadata": {
        "id": "_fc5wJBeKXDN"
      },
      "execution_count": 2,
      "outputs": []
    },
    {
      "cell_type": "code",
      "source": [
        "def draw_rectangle(ax, p1, p2, p3, p4):\n",
        "  my_polygon = Polygon([p1, p2, p3, p4])\n",
        "  ax.add_patch(my_polygon)"
      ],
      "metadata": {
        "id": "0XC7sFs9Hf3e"
      },
      "execution_count": 3,
      "outputs": []
    },
    {
      "cell_type": "code",
      "source": [
        "def draw_object(ax):\n",
        "  p1 = np.array([0, 0])\n",
        "  p2 = np.array([LEN, 0])\n",
        "  p3 = np.array([LEN, LEN])\n",
        "  p4 = np.array([0, LEN])\n",
        "\n",
        "  draw_rectangle(ax, p1, p2, p3, p4)"
      ],
      "metadata": {
        "id": "9_fAE1_kPjsv"
      },
      "execution_count": 4,
      "outputs": []
    },
    {
      "cell_type": "code",
      "source": [
        "# 그림판 선언 및 크기 설정\n",
        "fig, ax = plt.subplots(figsize=(7,7))\n",
        "\n",
        "# 축 그리기\n",
        "draw_axis(ax)\n",
        "\n",
        "# 물체 그리기\n",
        "draw_object(ax)\n",
        "\n",
        "plt.show()"
      ],
      "metadata": {
        "colab": {
          "base_uri": "https://localhost:8080/",
          "height": 599
        },
        "id": "L3r3ar9FQDKI",
        "outputId": "94239dc3-0721-4404-b4b1-05eb6c1b4bb1"
      },
      "execution_count": 5,
      "outputs": [
        {
          "output_type": "display_data",
          "data": {
            "text/plain": [
              "<Figure size 700x700 with 1 Axes>"
            ],
            "image/png": "[encoded data removed]"
          },
          "metadata": {}
        }
      ]
    },
    {
      "cell_type": "markdown",
      "source": [
        "### 본론\n",
        "#### 1. 변환 구현\n",
        "* translate(p, dx, dy)\n",
        "* rotate(p, theta)  \n",
        "* scale(p, sx, sy)  \n",
        "* shear_x(p, sx)  \n",
        "* shear_y(p, sy)  \n",
        "* reflect_x(p)  \n",
        "* reflect_y(p)   \n",
        "* ..."
      ],
      "metadata": {
        "id": "6txnl6M2PeUz"
      }
    },
    {
      "cell_type": "code",
      "source": [
        "#======변환 함수======\n",
        "\n",
        "def translate(p, dx, dy):\n",
        "  # 동차좌표계로 변환\n",
        "  hp = np.array([p[0], p[1], 1.0])\n",
        "\n",
        "  # 이동 변환 행렬 생성\n",
        "  m = np.array([[1.0, 0.0, dx], [0.0, 1.0, dy], [0.0, 0.0, 1.0]])\n",
        "\n",
        "  # 행렬과 벡터의 곱\n",
        "  q = np.dot(m, hp) # (3, 3) * (3, 1) -> (3, 1)\n",
        "\n",
        "  # 2차원 좌표계로 변환\n",
        "  q = np.array([q[0], q[1]])\n",
        "  return q\n",
        "  \n",
        "def rotate(p, theta):\n",
        "  # 동차좌표계로 변환\n",
        "  hp = np.array([p[0], p[1], 1.0])\n",
        "\n",
        "  # 회전 변환 행렬 생성\n",
        "  c = np.cos(theta)\n",
        "  s = np.sin(theta)\n",
        "  m = np.array([[c, -s, 0.0], [s, c, 0.0], [0.0, 0.0, 1.0]])\n",
        "\n",
        "  # 행렬과 벡터의 곱\n",
        "  q = np.dot(m, hp) \n",
        "\n",
        "  # 2차원 좌표계로 변환\n",
        "  q = np.array([q[0], q[1]])\n",
        "  return q\n",
        "  \n",
        "\n",
        "def scale(p, sx, sy):\n",
        "  # 동차좌표계로 변환\n",
        "  hp = np.array([p[0], p[1], 1.0])\n",
        "\n",
        "  # 크기 변환 행렬 생성\n",
        "  m = np.array([[sx, 0.0, 0.0], [0.0, sy, 0.0], [0.0, 0.0, 1.0]])\n",
        "\n",
        "  # 행렬과 벡터의 곱\n",
        "  q = np.dot(m, hp) \n",
        "\n",
        "  # 2차원 좌표계로 변환\n",
        "  q = np.array([q[0], q[1]])\n",
        "  return q\n",
        "\n",
        "def shear_x(p, scale):\n",
        " # 동차좌표계로 변환\n",
        "  hp = np.array([p[0], p[1], 1.0])\n",
        "\n",
        "  # x축 방향 기울기 변환 행렬 생성\n",
        "  m = np.array([[1.0, scale, 0.0], [0.0, 1.0, 0.0], [0.0, 0.0, 1.0]])\n",
        "\n",
        "  # 행렬과 벡터의 곱\n",
        "  q = np.dot(m, hp) \n",
        "\n",
        "  # 2차원 좌표계로 변환\n",
        "  q = np.array([q[0], q[1]])\n",
        "  return q\n",
        "\n",
        "def shear_y(p, sy):\n",
        " # 동차좌표계로 변환\n",
        "  hp = np.array([p[0], p[1], 1.0])\n",
        "\n",
        "  # y축 방향 기울기 변환 행렬 생성\n",
        "  m = np.array([[1.0, 0.0, 0.0], [sy, 1.0, 0.0], [0.0, 0.0, 1.0]])\n",
        "\n",
        "  # 행렬과 벡터의 곱\n",
        "  q = np.dot(m, hp) \n",
        "\n",
        "  # 2차원 좌표계로 변환\n",
        "  q = np.array([q[0], q[1]])\n",
        "  return q\n",
        "\n",
        "def reflect_x(p):\n",
        " # 동차좌표계로 변환\n",
        "  hp = np.array([p[0], p[1], 1.0])\n",
        "\n",
        "  # y축 방향 기울기 변환 행렬 생성\n",
        "  m = np.array([[1.0, 0.0, 0.0], [0.0, -1.0, 0.0], [0.0, 0.0, 1.0]])\n",
        "\n",
        "  # 행렬과 벡터의 곱\n",
        "  q = np.dot(m, hp) \n",
        "\n",
        "  # 2차원 좌표계로 변환\n",
        "  q = np.array([q[0], q[1]])\n",
        "  return q\n",
        "\n",
        "def reflect_y(p):\n",
        "  # 동차좌표계로 변환\n",
        "  hp = np.array([p[0], p[1], 1.0])\n",
        "\n",
        "  # y축 방향 기울기 변환 행렬 생성\n",
        "  m = np.array([[-1.0, 0.0, 0.0], [0.0, 1.0, 0.0], [0.0, 0.0, 1.0]])\n",
        "\n",
        "  # 행렬과 벡터의 곱\n",
        "  q = np.dot(m, hp) \n",
        "\n",
        "  # 2차원 좌표계로 변환\n",
        "  q = np.array([q[0], q[1]])\n",
        "  return q\n",
        "\n",
        "#=============="
      ],
      "metadata": {
        "id": "g1iKgeNoP-Bu"
      },
      "execution_count": 6,
      "outputs": []
    },
    {
      "cell_type": "markdown",
      "source": [
        "#### 2. 파트 그리기\n",
        "* draw_cockpit(p1, p2, p3, p4)    # 중앙 조종석\n",
        "* draw_left_arm(p1, p2, p3, p4)   # 왼쪽 날개축\n",
        "* draw_left_wing(p1, p2, p3, p4)  # 왼쪽 날개\n",
        "* draw_right_arm(p1, p2, p3, p4)  # 오른쪽 날개축\n",
        "* draw_right_wing(p1, p2, p3, p4) # 오른쪽 날개"
      ],
      "metadata": {
        "id": "E_jHSezpTC-9"
      }
    },
    {
      "cell_type": "code",
      "source": [
        "#그리기 함수 01: 중앙 조종석 그리기\n",
        "\n",
        "def draw_cockpit(ax, p1, p2, p3, p4):\n",
        "\n",
        "  # 1. 사각형을 원점으로 이동 변환: q = T(-LEN/2, -LEN/2)p\n",
        "  q1 = translate(p1, -LEN/2, -LEN/2)\n",
        "  q2 = translate(p2, -LEN/2, -LEN/2)\n",
        "  q3 = translate(p3, -LEN/2, -LEN/2)\n",
        "  q4 = translate(p4, -LEN/2, -LEN/2)\n",
        "\n",
        "  # 2. 크기 변환:\n",
        "  s = 5\n",
        "  q1 = scale(q1, s, s)\n",
        "  q2 = scale(q2, s, s)\n",
        "  q3 = scale(q3, s, s)\n",
        "  q4 = scale(q4, s, s)\n",
        "\n",
        "  # 3. 회전 변환: R(pi/4)\n",
        "  q1 = rotate(q1, 3.14/4.0)\n",
        "  q2 = rotate(q2, 3.14/4.0)\n",
        "  q3 = rotate(q3, 3.14/4.0)\n",
        "  q4 = rotate(q4, 3.14/4.0)\n",
        "\n",
        "  draw_rectangle(ax, q1, q2, q3, q4)\n",
        "\n",
        "#그리기 함수 02: 왼쪽, 오른쪽 날개축 그리기\n",
        "\n",
        "def draw_arm(ax, p1, p2, p3, p4):\n",
        "\n",
        "  # 1. 이동 변환:\n",
        "  tr = 200 #일단 위아래\n",
        "  tc = -95 #일단 왼오른\n",
        "  q1 = translate(p1, tr, tc)\n",
        "  q2 = translate(p2, tr, tc)\n",
        "  q3 = translate(p3, tr, tc)\n",
        "  q4 = translate(p4, tr, tc)\n",
        "\n",
        "  # 2. 크기 변환:\n",
        "  q1 = scale(q1, 0.8, 8)\n",
        "  q2 = scale(q2, 0.8, 8)\n",
        "  q3 = scale(q3, 0.8, 8)\n",
        "  q4 = scale(q4, 0.8, 8)\n",
        "\n",
        "  # 3. 회전 변환: R(pi/n)\n",
        "  q1 = rotate(q1, 3.14/2.45)\n",
        "  q2 = rotate(q2, 3.14/2.45)\n",
        "  q3 = rotate(q3, 3.14/2.45)\n",
        "  q4 = rotate(q4, 3.14/2.45)\n",
        "\n",
        "  draw_rectangle(ax, q1, q2, q3, q4) #왼쪽 위\n",
        "  q1 = reflect_x(q1)\n",
        "  q2 = reflect_x(q2)\n",
        "  q3 = reflect_x(q3)\n",
        "  q4 = reflect_x(q4)\n",
        "  draw_rectangle(ax, q1, q2, q3, q4) #왼쪽 아래\n",
        "  q1 = reflect_y(q1)\n",
        "  q2 = reflect_y(q2)\n",
        "  q3 = reflect_y(q3)\n",
        "  q4 = reflect_y(q4)\n",
        "  draw_rectangle(ax, q1, q2, q3, q4) #오른쪽 아래\n",
        "  q1 = reflect_x(q1)\n",
        "  q2 = reflect_x(q2)\n",
        "  q3 = reflect_x(q3)\n",
        "  q4 = reflect_x(q4)\n",
        "  draw_rectangle(ax, q1, q2, q3, q4) #오른쪽 위\n",
        "\n",
        "#그리기 함수 03: 왼쪽, 오른쪽 날개 그리기\n",
        "\n",
        "def draw_wing(ax, p1, p2, p3, p4):\n",
        "\n",
        "  # 1. 이동 변환:\n",
        "  tr = 570\n",
        "  tc = -50\n",
        "  q1 = translate(p1, tr, tc + 20)\n",
        "  q2 = translate(p2, tr, tc)\n",
        "  q3 = translate(p3, tr, tc)\n",
        "  q4 = translate(p4, tr, tc - 20)\n",
        "\n",
        "  # 2. 크기 변환:\n",
        "  q1 = scale(q1, 1.2, 9)\n",
        "  q2 = scale(q2, 1.2, 9)\n",
        "  q3 = scale(q3, 1.2, 9)\n",
        "  q4 = scale(q4, 1.2, 9)\n",
        "\n",
        "\n",
        "  draw_rectangle(ax, q1, q2, q3, q4) #왼쪽\n",
        "\n",
        "  q1 = reflect_y(q1)\n",
        "  q2 = reflect_y(q2)\n",
        "  q3 = reflect_y(q3)\n",
        "  q4 = reflect_y(q4)\n",
        "  draw_rectangle(ax, q1, q2, q3, q4) #오른쪽\n",
        "\n",
        "#그리기 함수 04: 조종석 디테일\n",
        "\n",
        "def draw_cockpit_detail(ax, p1, p2, p3, p4):\n",
        "\n",
        "  # 1. 사각형 이동 변환: q = T(-LEN/2, -LEN/2)p\n",
        "  q1 = translate(p1, -LEN/2 + 30, -LEN/2)\n",
        "  q2 = translate(p2, -LEN/2 - 30, -LEN/2)\n",
        "  q3 = translate(p3, -LEN/2, -LEN/2)\n",
        "  q4 = translate(p4, -LEN/2, -LEN/2)\n",
        "\n",
        "  # 2. 크기 변환:\n",
        "  s = 5\n",
        "  q1 = scale(q1, s, s)\n",
        "  q2 = scale(q2, s, s)\n",
        "  q3 = scale(q3, s, s)\n",
        "  q4 = scale(q4, s, s)\n",
        "\n",
        "\n",
        "  draw_rectangle(ax, q1, q2, q3, q4)\n",
        "\n",
        "  # 윗부분\n",
        "  # 1. 이동변환\n",
        "  tr = -50\n",
        "  tc = 100\n",
        "  q1 = translate(p1, tr, tc)\n",
        "  q2 = translate(p2, tr, tc)\n",
        "  q3 = translate(p3, tr - 20, tc - 10)\n",
        "  q4 = translate(p4, tr + 20, tc - 10)\n",
        "\n",
        "\n",
        "  # 3. 크기 변환:\n",
        "  q1 = scale(q1, 4.2, 2)\n",
        "  q2 = scale(q2, 4.2, 2)\n",
        "  q3 = scale(q3, 4.2, 2)\n",
        "  q4 = scale(q4, 4.2, 2)\n",
        "\n",
        "  draw_rectangle(ax, q1, q2, q3, q4)\n",
        "\n",
        "  # 4. x축 대칭:\n",
        "  q1 = reflect_x(q1)\n",
        "  q2 = reflect_x(q2)\n",
        "  q3 = reflect_x(q3)\n",
        "  q4 = reflect_x(q4)\n",
        "\n",
        "  # 5. 이동 변환:\n",
        "\n",
        "  tr = -50\n",
        "  tc = -340\n",
        "  q1 = translate(p1, tr - 20, tc - 10)\n",
        "  q2 = translate(p2, tr + 20, tc - 10)\n",
        "  q3 = translate(p3, tr + 150 , tc + 50)\n",
        "  q4 = translate(p4, tr - 150, tc + 50)\n",
        "\n",
        "  draw_rectangle(ax, q1, q2, q3, q4)"
      ],
      "metadata": {
        "id": "6C7a4CH4HSj0"
      },
      "execution_count": 7,
      "outputs": []
    },
    {
      "cell_type": "code",
      "execution_count": 8,
      "metadata": {
        "id": "hMI0xB0pDlnU"
      },
      "outputs": [],
      "source": [
        "#=====오브젝트 그리기=====\n",
        "\n",
        "def draw_object(ax):\n",
        "    p1 = np.array([0, 0])\n",
        "    p2 = np.array([LEN, 0])\n",
        "    p3 = np.array([LEN, LEN])\n",
        "    p4 = np.array([0, LEN])\n",
        "    \n",
        "\n",
        "    # 중앙 조종석 그리기\n",
        "    draw_cockpit(ax, p1, p2, p3, p4)\n",
        "\n",
        "    # 왼쪽, 오른쪽 날개축 그리기\n",
        "    draw_arm(ax, p1, p2, p3, p4)\n",
        "\n",
        "    # 왼쪽, 오른쪽 날개 그리기\n",
        "    draw_wing(ax, p1, p2, p3, p4)\n",
        "\n",
        "    # [추가 오브젝트] 조종석 그리기\n",
        "    draw_cockpit_detail(ax, p1, p2, p3, p4)\n",
        "\n",
        "#=========="
      ]
    },
    {
      "cell_type": "markdown",
      "source": [
        "### 3. main"
      ],
      "metadata": {
        "id": "24hO1zQaHiFJ"
      }
    },
    {
      "cell_type": "code",
      "source": [
        "# 그림판 선언 및 크기 설정\n",
        "fig, ax = plt.subplots(figsize=(7,7))\n",
        "\n",
        "# 축 그리기\n",
        "draw_axis(ax)\n",
        "\n",
        "# 물체 그리기\n",
        "draw_object(ax)\n",
        "plt.title(\"SI SEUNGYEON\", loc=\"right\")\n",
        "plt.show()"
      ],
      "metadata": {
        "colab": {
          "base_uri": "https://localhost:8080/",
          "height": 622
        },
        "id": "1Bdz-KxWLLHb",
        "outputId": "01ae7e6f-2d14-4ede-bdca-895815993415"
      },
      "execution_count": 9,
      "outputs": [
        {
          "output_type": "display_data",
          "data": {
            "text/plain": [
              "<Figure size 700x700 with 1 Axes>"
            ],
            "image/png": "[encoded data removed]"
          },
          "metadata": {}
        }
      ]
    }
  ]
}