{
  "nbformat": 4,
  "nbformat_minor": 0,
  "metadata": {
    "colab": {
      "provenance": [],
      "authorship_tag": "ABX9TyPRXRfE1PNPjZYJ5vpUdKyk",
      "include_colab_link": true
    },
    "kernelspec": {
      "name": "python3",
      "display_name": "Python 3"
    },
    "language_info": {
      "name": "python"
    }
  },
  "cells": [
    {
      "cell_type": "markdown",
      "metadata": {
        "id": "view-in-github",
        "colab_type": "text"
      },
      "source": [
        "<a href=\"https://colab.research.google.com/github/seungyeons2/LA2/blob/main/%EC%8B%A4%EC%8A%B50.ipynb\" target=\"_parent\"><img src=\"https://colab.research.google.com/assets/colab-badge.svg\" alt=\"Open In Colab\"/></a>"
      ]
    },
    {
      "cell_type": "markdown",
      "source": [
        "### 라이브러리(패키지) 로드"
      ],
      "metadata": {
        "id": "cH-GO_geKHYe"
      }
    },
    {
      "cell_type": "code",
      "execution_count": null,
      "metadata": {
        "id": "hbrf1o3O8iOz"
      },
      "outputs": [],
      "source": [
        "import numpy as np\n",
        "\n",
        "def print_val(x):\n",
        "  print(\"Type:\", type(x))\n",
        "  print(\"Shape:\", x.shape)\n",
        "  print(\"값:\\n\", x)\n",
        "  print(\"\")"
      ]
    },
    {
      "cell_type": "markdown",
      "source": [
        "#2.벡터, 행렬 연산, 그래프 그리기\n",
        "###프린트\n",
        "###rank 1 np array"
      ],
      "metadata": {
        "id": "FcmTOhJAKN6k"
      }
    },
    {
      "cell_type": "code",
      "source": [
        "x = np.array([1, 2, 3])\n",
        "print_val(x)\n",
        "\n",
        "x[0] = 5\n",
        "print_val(x)"
      ],
      "metadata": {
        "colab": {
          "base_uri": "https://localhost:8080/"
        },
        "id": "4O5cwqdEKM_G",
        "outputId": "8a26025a-7498-4ac0-e03f-794671ae782f"
      },
      "execution_count": null,
      "outputs": [
        {
          "output_type": "stream",
          "name": "stdout",
          "text": [
            "Type: <class 'numpy.ndarray'>\n",
            "Shape: (3,)\n",
            "값:\n",
            " [1 2 3]\n",
            "\n",
            "Type: <class 'numpy.ndarray'>\n",
            "Shape: (3,)\n",
            "값:\n",
            " [5 2 3]\n",
            "\n"
          ]
        }
      ]
    },
    {
      "cell_type": "markdown",
      "source": [
        "###rank 2 np array"
      ],
      "metadata": {
        "id": "XH0jH7ecKp4J"
      }
    },
    {
      "cell_type": "code",
      "source": [
        "y = np.array([[1,2,3], [4,5,6]])\n",
        "print_val(y)"
      ],
      "metadata": {
        "id": "q3XXDZWjKtIG"
      },
      "execution_count": null,
      "outputs": []
    },
    {
      "cell_type": "markdown",
      "source": [
        "###rank 2 zeros"
      ],
      "metadata": {
        "id": "lVZaX_LDK-qP"
      }
    },
    {
      "cell_type": "code",
      "source": [
        "a = np.zeros((2,2))\n",
        "print_val(a)"
      ],
      "metadata": {
        "id": "_koSCYzYLC78"
      },
      "execution_count": null,
      "outputs": []
    },
    {
      "cell_type": "markdown",
      "source": [
        "###rank 2 ones"
      ],
      "metadata": {
        "id": "sBky17MFLVby"
      }
    },
    {
      "cell_type": "code",
      "source": [
        "a = np.ones((3,2))\n",
        "print_val(a)"
      ],
      "metadata": {
        "id": "508ztqFOLTvu"
      },
      "execution_count": null,
      "outputs": []
    },
    {
      "cell_type": "markdown",
      "source": [
        "###rank 2 단위 행렬(identity matrix)\n"
      ],
      "metadata": {
        "id": "WZUWKlEZLqIj"
      }
    },
    {
      "cell_type": "code",
      "source": [
        "a = np.eye(3,3)\n",
        "print_val(a)"
      ],
      "metadata": {
        "id": "JMtSoLHgLupW"
      },
      "execution_count": null,
      "outputs": []
    },
    {
      "cell_type": "markdown",
      "source": [
        "###랜덤 행렬(uniform: 0~1 사이 모든 값들이 나올 확률이 같음)\n"
      ],
      "metadata": {
        "id": "Kqb7v_WFL2iT"
      }
    },
    {
      "cell_type": "code",
      "source": [
        "a = np.random.random((4,4))\n",
        "print_val(a)"
      ],
      "metadata": {
        "colab": {
          "base_uri": "https://localhost:8080/"
        },
        "id": "1s0Obh-1L7kd",
        "outputId": "83ca5e39-2fe6-4782-846a-dd68dd85db95"
      },
      "execution_count": null,
      "outputs": [
        {
          "output_type": "stream",
          "name": "stdout",
          "text": [
            "Type: <class 'numpy.ndarray'>\n",
            "Shape: (4, 4)\n",
            "값:\n",
            " [[0.53872058 0.66833251 0.28678885 0.73100651]\n",
            " [0.21992267 0.25776754 0.55771736 0.02705825]\n",
            " [0.93106491 0.91267285 0.07334621 0.99189492]\n",
            " [0.48592475 0.38334962 0.06699293 0.3694614 ]]\n",
            "\n"
          ]
        }
      ]
    },
    {
      "cell_type": "markdown",
      "source": [
        "###랜덤 행렬(Gaussian: 0을 평균으로 하는 가우시안 분포를 따르는 랜덤값)"
      ],
      "metadata": {
        "id": "AEcSR0WGMCPy"
      }
    },
    {
      "cell_type": "code",
      "source": [
        "a = np.random.randn(4, 4)\n",
        "print_val(a)"
      ],
      "metadata": {
        "colab": {
          "base_uri": "https://localhost:8080/"
        },
        "id": "bQfrLmFmMHiE",
        "outputId": "c53c2146-4416-466e-e079-b26b6e728fb4"
      },
      "execution_count": null,
      "outputs": [
        {
          "output_type": "stream",
          "name": "stdout",
          "text": [
            "Type: <class 'numpy.ndarray'>\n",
            "Shape: (4, 4)\n",
            "값:\n",
            " [[ 0.14778754  0.31844639 -0.16959579  0.20557286]\n",
            " [-0.31995809 -0.55377703  2.05185869 -0.18433004]\n",
            " [ 2.49517932 -2.8964305  -0.09633159 -0.32359589]\n",
            " [-0.06649758 -0.57560853 -1.41431699 -0.07282683]]\n",
            "\n"
          ]
        }
      ]
    },
    {
      "cell_type": "markdown",
      "source": [
        "###np array indexing"
      ],
      "metadata": {
        "id": "OJrLkiK7MTiU"
      }
    },
    {
      "cell_type": "code",
      "source": [
        "a = np.array([[1,2,3,4], [5,6,7,8], [9,10,11,12]])\n",
        "print_val(a)"
      ],
      "metadata": {
        "id": "oIX2_wEFMVtW"
      },
      "execution_count": null,
      "outputs": []
    },
    {
      "cell_type": "code",
      "source": [
        "b = a[:2, 1:3]\n",
        "print_val(b)"
      ],
      "metadata": {
        "id": "apjBlPOeMbw4"
      },
      "execution_count": null,
      "outputs": []
    },
    {
      "cell_type": "markdown",
      "source": [
        "###행렬의 n번째 행 얻기"
      ],
      "metadata": {
        "id": "ikFHqigUMi4Z"
      }
    },
    {
      "cell_type": "code",
      "source": [
        "row1 = a[1, :]\n",
        "print_val(row1)"
      ],
      "metadata": {
        "id": "mE9TM0jpMlNR"
      },
      "execution_count": null,
      "outputs": []
    },
    {
      "cell_type": "markdown",
      "source": [
        "###행렬의 원소별 연산"
      ],
      "metadata": {
        "id": "bTNXGgnzNJj6"
      }
    },
    {
      "cell_type": "code",
      "source": [
        "m1 = np.array([[1,2], [3,4]], dtype=np.float64)\n",
        "m2 = np.array([[5,6], [7,8]], dtype=np.float64)"
      ],
      "metadata": {
        "id": "EprQtLy9NMof"
      },
      "execution_count": null,
      "outputs": []
    },
    {
      "cell_type": "code",
      "source": [
        "#elementwise difference\n",
        "print_val(m1 - m2)\n",
        "print_val(np.subtract(m1, m2))"
      ],
      "metadata": {
        "id": "EKWjEPlqNqLY"
      },
      "execution_count": null,
      "outputs": []
    },
    {
      "cell_type": "code",
      "source": [
        "#elementwise \bproduct\n",
        "print_val(m1 * m2)\n",
        "print_val(np.multiply(m1, m2))"
      ],
      "metadata": {
        "id": "RI5QDNHxNt8i"
      },
      "execution_count": null,
      "outputs": []
    },
    {
      "cell_type": "code",
      "source": [
        "#elementwise division\n",
        "print_val(m1 / m2)\n",
        "print_val(np.divide(m1, m2))"
      ],
      "metadata": {
        "id": "E17-Oo_KOAgI"
      },
      "execution_count": null,
      "outputs": []
    },
    {
      "cell_type": "code",
      "source": [
        "#elementwise square root\n",
        "print_val(np.sqrt(m1))"
      ],
      "metadata": {
        "id": "k0yIvdsYOGoO"
      },
      "execution_count": null,
      "outputs": []
    },
    {
      "cell_type": "markdown",
      "source": [
        "###행렬 연산"
      ],
      "metadata": {
        "id": "FKofwi-TOLy1"
      }
    },
    {
      "cell_type": "code",
      "source": [
        "m1 = np.array([[1,2], [3,4]])\n",
        "m2 = np.array([[5,6], [7,8]])\n",
        "v1 = np.array([9,10])\n",
        "v2 = np.array([11,12])\n",
        "\n",
        "print_val(m1)\n",
        "print_val(m2)\n",
        "print_val(v1)\n",
        "print_val(v2)\n"
      ],
      "metadata": {
        "id": "GLdZu1n_ONFg"
      },
      "execution_count": null,
      "outputs": []
    },
    {
      "cell_type": "markdown",
      "source": [
        "###벡터-벡터 연산"
      ],
      "metadata": {
        "id": "Gyg5BEyaOn0v"
      }
    },
    {
      "cell_type": "code",
      "source": [
        "print_val(v1.dot(v2))\n",
        "print_val(np.dot(v1, v2))"
      ],
      "metadata": {
        "id": "HW3uOJykOpQY"
      },
      "execution_count": null,
      "outputs": []
    },
    {
      "cell_type": "markdown",
      "source": [
        "###벡터-행렬 연산"
      ],
      "metadata": {
        "id": "0WscTPUiOuAX"
      }
    },
    {
      "cell_type": "code",
      "source": [
        "print_val(m1.dot(v1)) # (2, 2) * (2, 1) -> (2, 1)\n",
        "print_val(np.dot(m1, v1))"
      ],
      "metadata": {
        "id": "AU2xYCOFOwDi"
      },
      "execution_count": null,
      "outputs": []
    },
    {
      "cell_type": "markdown",
      "source": [
        "###행렬-행렬 연산"
      ],
      "metadata": {
        "id": "ODT8ZyStPAjh"
      }
    },
    {
      "cell_type": "code",
      "source": [
        "print_val(m1.dot(m2))\n",
        "print_val(np.dot(m1, m2))"
      ],
      "metadata": {
        "id": "OBZmimKWPIAF"
      },
      "execution_count": null,
      "outputs": []
    },
    {
      "cell_type": "markdown",
      "source": [
        "###전치 행렬(transpose)"
      ],
      "metadata": {
        "id": "pZfulGRJPSsT"
      }
    },
    {
      "cell_type": "code",
      "source": [
        "print_val(m1)\n",
        "print_val(m1.T)"
      ],
      "metadata": {
        "id": "yw7b6iO5PU_4"
      },
      "execution_count": null,
      "outputs": []
    },
    {
      "cell_type": "markdown",
      "source": [
        "###합"
      ],
      "metadata": {
        "id": "Jf2GKED9Pame"
      }
    },
    {
      "cell_type": "code",
      "source": [
        "print_val(np.sum(m1))\n",
        "print_val(np.sum(m1, axis = 0))\n",
        "print_val(np.sum(m1, axis = 1))\n"
      ],
      "metadata": {
        "id": "4b6Zp4zWPbn4"
      },
      "execution_count": null,
      "outputs": []
    },
    {
      "cell_type": "code",
      "source": [
        "m1 = np.array([[1,2,3], [4,5,6]])\n",
        "print(m1)\n",
        "print(m1.shape)"
      ],
      "metadata": {
        "id": "5Fv2xVGzPkXv"
      },
      "execution_count": null,
      "outputs": []
    },
    {
      "cell_type": "code",
      "source": [
        "print np.sum(m1)\n",
        "print np.sum(m1, axis = 0)\n",
        "print np.sum(m1, axis = 1)"
      ],
      "metadata": {
        "id": "QPrM8GS3PuRl"
      },
      "execution_count": null,
      "outputs": []
    },
    {
      "cell_type": "markdown",
      "source": [
        "###zeros-like"
      ],
      "metadata": {
        "id": "PFu4IG7DQJ2O"
      }
    },
    {
      "cell_type": "code",
      "source": [
        "m1 = np.array([[1,2,3], [4,5,6], [7,8,9], [10,11,12]])\n",
        "m2 = np.zeros_like(m1)\n",
        "print_val(m1)\n",
        "print_val(m2)"
      ],
      "metadata": {
        "id": "b3OsAxuvQLbe"
      },
      "execution_count": null,
      "outputs": []
    },
    {
      "cell_type": "markdown",
      "source": [
        "###Matplot library"
      ],
      "metadata": {
        "id": "K5b2r9-2QXxm"
      }
    },
    {
      "cell_type": "code",
      "source": [
        "import matplotlib.pyplot as plt\n",
        "%matplotlib inline"
      ],
      "metadata": {
        "id": "69aQLX8-QZ86"
      },
      "execution_count": null,
      "outputs": []
    },
    {
      "cell_type": "code",
      "source": [
        "#sin 커브\n",
        "x = np.arange(0, 10, 0.1)\n",
        "y = np.sin(x)\n",
        "\n",
        "plt.plot(x, y)"
      ],
      "metadata": {
        "id": "2377hCrOQgnN"
      },
      "execution_count": null,
      "outputs": []
    },
    {
      "cell_type": "markdown",
      "source": [
        "###한 번에 두 개 그래프 그리기"
      ],
      "metadata": {
        "id": "oIDH6oPSQqAl"
      }
    },
    {
      "cell_type": "code",
      "source": [
        "y_sin = np.sin(x)\n",
        "y_cos = np.cos(x)\n",
        "\n",
        "plt.plot(x, y_sin)\n",
        "plt.plot(x, y_cos))\n",
        "plt.xlabel('x axis label')\n",
        "plt.ylabel('y axis label')\n",
        "plt.title('sin and cos')\n",
        "plt.legend(['sin', 'cos'])\n",
        "\n",
        "plt.show()"
      ],
      "metadata": {
        "id": "ZvSO0Tl2Qri9"
      },
      "execution_count": null,
      "outputs": []
    },
    {
      "cell_type": "markdown",
      "source": [
        "###Subplot"
      ],
      "metadata": {
        "id": "Y0GF56gnQrub"
      }
    },
    {
      "cell_type": "code",
      "source": [
        "plt.subplot(2, 1, 1)\n",
        "plt.plot(x, y_sin)\n",
        "plt.title('sin')\n",
        "\n",
        "plt.subplot(2, 1, 2)\n",
        "plt.plot(x, y_cos)\n",
        "plt.title('cos')\n",
        "\n",
        "plt.show()"
      ],
      "metadata": {
        "id": "hcozeBERQtOy"
      },
      "execution_count": null,
      "outputs": []
    }
  ]
}